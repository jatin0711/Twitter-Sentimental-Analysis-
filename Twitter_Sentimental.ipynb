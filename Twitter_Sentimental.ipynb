{
  "nbformat": 4,
  "nbformat_minor": 0,
  "metadata": {
    "colab": {
      "name": "Twitter_Sentimental.ipynb",
      "version": "0.3.2",
      "provenance": [],
      "include_colab_link": true
    },
    "kernelspec": {
      "name": "python3",
      "display_name": "Python 3"
    }
  },
  "cells": [
    {
      "cell_type": "markdown",
      "metadata": {
        "id": "view-in-github",
        "colab_type": "text"
      },
      "source": [
        "<a href=\"https://colab.research.google.com/github/jatin0711/Twitter-Sentimental-Analysis-/blob/master/Twitter_Sentimental.ipynb\" target=\"_parent\"><img src=\"https://colab.research.google.com/assets/colab-badge.svg\" alt=\"Open In Colab\"/></a>"
      ]
    },
    {
      "metadata": {
        "id": "3PfRtF4KWNs-",
        "colab_type": "code",
        "colab": {
          "base_uri": "https://localhost:8080/",
          "height": 187
        },
        "outputId": "c9762dc9-c38a-4ca6-afe7-6b515d501ea1"
      },
      "cell_type": "code",
      "source": [
        "!pip3 install tweepy\n"
      ],
      "execution_count": 1,
      "outputs": [
        {
          "output_type": "stream",
          "text": [
            "Requirement already satisfied: tweepy in /usr/local/lib/python3.6/dist-packages (3.6.0)\n",
            "Requirement already satisfied: six>=1.10.0 in /usr/local/lib/python3.6/dist-packages (from tweepy) (1.11.0)\n",
            "Requirement already satisfied: requests>=2.11.1 in /usr/local/lib/python3.6/dist-packages (from tweepy) (2.18.4)\n",
            "Requirement already satisfied: PySocks>=1.5.7 in /usr/local/lib/python3.6/dist-packages (from tweepy) (1.6.8)\n",
            "Requirement already satisfied: requests-oauthlib>=0.7.0 in /usr/local/lib/python3.6/dist-packages (from tweepy) (1.2.0)\n",
            "Requirement already satisfied: certifi>=2017.4.17 in /usr/local/lib/python3.6/dist-packages (from requests>=2.11.1->tweepy) (2018.11.29)\n",
            "Requirement already satisfied: chardet<3.1.0,>=3.0.2 in /usr/local/lib/python3.6/dist-packages (from requests>=2.11.1->tweepy) (3.0.4)\n",
            "Requirement already satisfied: idna<2.7,>=2.5 in /usr/local/lib/python3.6/dist-packages (from requests>=2.11.1->tweepy) (2.6)\n",
            "Requirement already satisfied: urllib3<1.23,>=1.21.1 in /usr/local/lib/python3.6/dist-packages (from requests>=2.11.1->tweepy) (1.22)\n",
            "Requirement already satisfied: oauthlib>=3.0.0 in /usr/local/lib/python3.6/dist-packages (from requests-oauthlib>=0.7.0->tweepy) (3.0.1)\n"
          ],
          "name": "stdout"
        }
      ]
    },
    {
      "metadata": {
        "id": "b1oHHXf3WV4m",
        "colab_type": "code",
        "colab": {
          "base_uri": "https://localhost:8080/",
          "height": 68
        },
        "outputId": "eef220db-3b54-4a40-8360-ebc1581889fd"
      },
      "cell_type": "code",
      "source": [
        "!pip3 install textblob"
      ],
      "execution_count": 3,
      "outputs": [
        {
          "output_type": "stream",
          "text": [
            "Requirement already satisfied: textblob in /usr/local/lib/python3.6/dist-packages (0.15.3)\n",
            "Requirement already satisfied: nltk>=3.1 in /usr/local/lib/python3.6/dist-packages (from textblob) (3.2.5)\n",
            "Requirement already satisfied: six in /usr/local/lib/python3.6/dist-packages (from nltk>=3.1->textblob) (1.11.0)\n"
          ],
          "name": "stdout"
        }
      ]
    },
    {
      "metadata": {
        "id": "SzGUf-d9WiTR",
        "colab_type": "code",
        "colab": {
          "base_uri": "https://localhost:8080/",
          "height": 119
        },
        "outputId": "5e2b1775-1310-4820-95cf-0f80d4123e6f"
      },
      "cell_type": "code",
      "source": [
        "import nltk\n",
        "nltk.download('punkt')\n",
        "nltk.download('averaged_perceptron_tagger')\n",
        "from textblob import TextBlob\n"
      ],
      "execution_count": 7,
      "outputs": [
        {
          "output_type": "stream",
          "text": [
            "[nltk_data] Downloading package punkt to /root/nltk_data...\n",
            "[nltk_data]   Package punkt is already up-to-date!\n",
            "[nltk_data] Downloading package averaged_perceptron_tagger to\n",
            "[nltk_data]     /root/nltk_data...\n",
            "[nltk_data]   Unzipping taggers/averaged_perceptron_tagger.zip.\n",
            "[('Jani', 'NNP'), ('is', 'VBZ'), ('the', 'DT'), ('best', 'JJS'), ('because', 'IN'), ('he', 'PRP'), ('never', 'RB'), ('gives', 'VBZ'), ('up', 'RP')]\n"
          ],
          "name": "stdout"
        }
      ]
    },
    {
      "metadata": {
        "id": "HXGx6nYHXJtc",
        "colab_type": "code",
        "colab": {
          "base_uri": "https://localhost:8080/",
          "height": 68
        },
        "outputId": "830dcfa1-7081-4700-e6de-c203544aef92"
      },
      "cell_type": "code",
      "source": [
        "wiki=TextBlob(\"Jani is the best because he never gives up\")\n",
        "print(wiki.tags)\n",
        "print(wiki.words)\n",
        "print(wiki.sentiment.polarity)\n"
      ],
      "execution_count": 9,
      "outputs": [
        {
          "output_type": "stream",
          "text": [
            "[('Jani', 'NNP'), ('is', 'VBZ'), ('the', 'DT'), ('best', 'JJS'), ('because', 'IN'), ('he', 'PRP'), ('never', 'RB'), ('gives', 'VBZ'), ('up', 'RP')]\n",
            "['Jani', 'is', 'the', 'best', 'because', 'he', 'never', 'gives', 'up']\n",
            "1.0\n"
          ],
          "name": "stdout"
        }
      ]
    },
    {
      "metadata": {
        "id": "2f6PuEwtY2Eh",
        "colab_type": "code",
        "colab": {}
      },
      "cell_type": "code",
      "source": [
        "wiki"
      ],
      "execution_count": 0,
      "outputs": []
    },
    {
      "metadata": {
        "id": "NCV2YbmeZC9K",
        "colab_type": "code",
        "colab": {}
      },
      "cell_type": "code",
      "source": [
        "import tweepy\n",
        "consumer_key='vxxtVDjVJtQso8aK3gnCQNxj8'\n",
        "consumer_secret='8k9FOcJAJ6tJfaJ3Luv9KmuQ8RsWTf9BX2RfacOgLuCllP1SGj'\n",
        "access_token='3140812408-RcMuwK5URUOaNag0FhOH1u7uzJ5vw172LYpK86L'\n",
        "access_token_secret='o3MDWwxskbMPWScbJhQyBe4B7zbr6re5XVxeJeVU1GSY8'\n",
        "\n",
        "auth=tweepy.OAuthHandler(consumer_key,consumer_secret)\n",
        "auth.set_access_token(access_token,access_token_secret)\n",
        "\n",
        "api=tweepy.API(auth)\n"
      ],
      "execution_count": 0,
      "outputs": []
    },
    {
      "metadata": {
        "id": "xuco-raPagRM",
        "colab_type": "code",
        "colab": {
          "base_uri": "https://localhost:8080/",
          "height": 833
        },
        "outputId": "fb12778c-3719-4168-f82f-c6be541e4ca0"
      },
      "cell_type": "code",
      "source": [
        "public_tweet=api.search('INDvAUS')\n",
        "for tweet in public_tweet:\n",
        "  print(tweet.text)\n",
        "  analysis=TextBlob(tweet.text)\n",
        "  print(analysis.sentiment)"
      ],
      "execution_count": 16,
      "outputs": [
        {
          "output_type": "stream",
          "text": [
            "RT @navneet_mundhra: Video: None can get hold of Dhoni, on the field or off the field. Call him elusive or lightning fast #Dhoni #INDvAUS @…\n",
            "Sentiment(polarity=0.2, subjectivity=0.6)\n",
            "RT @RusselArnold69: Enna Maama @srinimaama16 Vijay Shankar all rounder kalakitan. Batting, death bowling. Nalla vilayaduran da unda payyan.…\n",
            "Sentiment(polarity=0.0, subjectivity=0.0)\n",
            "RT @BCCI: What a nail biting game this has been.\n",
            "\n",
            "Two wickets for @vijayshankar260 in the final over and #TeamIndia win the 2nd ODI by 8 ru…\n",
            "Sentiment(polarity=0.1, subjectivity=0.44999999999999996)\n",
            "RT @MichaelVaughan: Early signs that @imVkohli looks in the mood ... !! #INDvAUS\n",
            "Sentiment(polarity=0.15625, subjectivity=0.3)\n",
            "RT @Shahrcasm: When You Made 0(1) But You Know Fans Out Their Will Credit You For The Win... #INDvAUS https://t.co/NwiQxffC5h\n",
            "Sentiment(polarity=0.8, subjectivity=0.4)\n",
            "RT @VVSLaxman281: Outstanding innings from Virat but really  impressed by how Vijay Shankar soaked the pressure in the last over . Jasprit…\n",
            "Sentiment(polarity=0.5, subjectivity=0.6472222222222223)\n",
            "RT @7Sport: Aussies suffer big collapse to concede thrilling ODI to India.\n",
            "\n",
            "WATCH: https://t.co/u9koVJPVam\n",
            "\n",
            "#INDvAUS https://t.co/moOBrHoUOi\n",
            "Sentiment(polarity=0.125, subjectivity=0.55)\n",
            "RT @ICC: It's ODI century number 40 for @imvKohli! 💯\n",
            "\n",
            "It's his seventh against Australia! 👏 #INDvAUS https://t.co/hmuW9qt9D8\n",
            "Sentiment(polarity=0.0, subjectivity=0.0)\n",
            "RT @MohammadKaif: Marvellous victory. Jasprit Bumrah take a bow, just 2 runs in his last 2 overs, outstanding stuff and this is a great win…\n",
            "Sentiment(polarity=0.43333333333333335, subjectivity=0.5638888888888889)\n",
            "RT @SirJadeja: A smile that cheers Billions of Indians. #INDvAUS 🙌🇮🇳 https://t.co/9lO5wFFzae\n",
            "Sentiment(polarity=0.3, subjectivity=0.1)\n",
            "RT @ESPNcricinfo: Virat Kohli constant as Australia excel around him\n",
            "\n",
            "https://t.co/Lca1kB8O0A #INDvAUS https://t.co/iYq8RvlpmC\n",
            "Sentiment(polarity=0.0, subjectivity=0.3333333333333333)\n",
            "RT @1sInto2s: when you have done nothing in the match but you know people will give credit to you for the win\n",
            "\n",
            "#INDvAUS https://t.co/3Uq5RJ…\n",
            "Sentiment(polarity=0.8, subjectivity=0.4)\n",
            "RT @Shahrcasm: Reason Why We Won Tonight....\n",
            "\n",
            "Yes Haters..... He Didn't Waste Balls Today...\n",
            "\n",
            "#INDvAUS https://t.co/RvPYWv1X9B\n",
            "Sentiment(polarity=-0.2, subjectivity=0.0)\n",
            "RT @RaviShastriOfc: Your future is as bright as your faith - #500thODIwin #INDvAUS #TeamIndia 🇮🇳🙏 https://t.co/Co2MzbgnCu\n",
            "Sentiment(polarity=0.35000000000000003, subjectivity=0.46249999999999997)\n",
            "RT @manoj_meena95: @RailMinIndia ऑस्ट्रेलिया की टीम मैदान से बाहर जाने को तैयार नही;\n",
            "बोल रही है कि normalization होना चाइये।\n",
            "#RRBGroupDResu…\n",
            "Sentiment(polarity=0.0, subjectivity=0.0)\n"
          ],
          "name": "stdout"
        }
      ]
    },
    {
      "metadata": {
        "id": "GW7bXwbDbo9p",
        "colab_type": "code",
        "colab": {}
      },
      "cell_type": "code",
      "source": [
        ""
      ],
      "execution_count": 0,
      "outputs": []
    }
  ]
}